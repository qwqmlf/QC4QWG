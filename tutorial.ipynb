{
 "cells": [
  {
   "cell_type": "code",
   "execution_count": 1,
   "metadata": {},
   "outputs": [
    {
     "name": "stdout",
     "output_type": "stream",
     "text": [
      "op\n",
      "['001', [Qubit(QuantumRegister(2, 't0'), 0), Qubit(QuantumRegister(2, 't0'), 1), Qubit(QuantumRegister(1, 'coin2'), 0)], [Qubit(QuantumRegister(2, 't1'), 0)]]\n",
      "op\n",
      "['001', [Qubit(QuantumRegister(2, 't0'), 0), Qubit(QuantumRegister(2, 't0'), 1), Qubit(QuantumRegister(1, 'coin2'), 0)], [Qubit(QuantumRegister(2, 't1'), 0)]]\n",
      "op\n",
      "['011', [Qubit(QuantumRegister(2, 't0'), 0), Qubit(QuantumRegister(2, 't0'), 1), Qubit(QuantumRegister(1, 'coin2'), 0)], [Qubit(QuantumRegister(2, 't1'), 0)]]\n"
     ]
    }
   ],
   "source": [
    "from QC4QWG import *\n",
    "import scipy as sp\n",
    "import networkx as nx\n",
    "G= nx.Graph()\n",
    "G.add_edges_from([(0, 1), (0, 2),(1,2)])\n",
    "# G.add_edges_from([(0, 1), (0, 4), (0, 5), (1, 0), (1, 2), (1, 4), (1, 5), (2, 1), (2, 3), (2, 5), (2, 6),(3, 2), (3, 6), \n",
    "#                   (4, 0), (4, 1), (4, 5), (4, 8), (4, 9), (4, 10),(5, 0), (5, 1), (5, 2), (5, 4), (5, 6), (5, 9), (5, 10),\n",
    "#                   (6, 2), (6, 3), (6, 5), (6, 10),(8, 4), (8, 11), (9, 4), (9, 5), (9, 10), (9, 11),\n",
    "#                   (10, 4), (10, 5), (10, 6), (10, 9), (10,11),(11, 8), (11, 9)])\n",
    "\n",
    "qc1 =QC4QWG(G,1)"
   ]
  },
  {
   "cell_type": "code",
   "execution_count": 2,
   "metadata": {},
   "outputs": [
    {
     "data": {
      "text/html": [
       "<pre style=\"word-wrap: normal;white-space: pre;background: #fff0;line-height: 1.1;font-family: &quot;Courier New&quot;,Courier,monospace\">            ┌───┐┌──────┐┌──────┐┌──────┐\n",
       "   t0_0: |0>┤ H ├┤0     ├┤0     ├┤0     ├\n",
       "            ├───┤│      ││      ││      │\n",
       "   t0_1: |0>┤ H ├┤1     ├┤1     ├┤1     ├\n",
       "            └───┘│      ││      ││      │\n",
       "   t1_0: |0>─────┤3 bmx ├┤3 bmx ├┤3 bmx ├\n",
       "                 │      ││      ││      │\n",
       "   t1_1: |0>─────┤      ├┤      ├┤      ├\n",
       "            ┌───┐│      ││      ││      │\n",
       "coin2_0: |0>┤ H ├┤2     ├┤2     ├┤2     ├\n",
       "            └───┘└──────┘└──────┘└──────┘\n",
       "result_0: 0 ═════════════════════════════\n",
       "                                         \n",
       "result_1: 0 ═════════════════════════════\n",
       "                                         </pre>"
      ],
      "text/plain": [
       "<qiskit.visualization.text.TextDrawing at 0x1a2411ad90>"
      ]
     },
     "execution_count": 2,
     "metadata": {},
     "output_type": "execute_result"
    }
   ],
   "source": [
    "qc1.draw()"
   ]
  },
  {
   "cell_type": "code",
   "execution_count": 4,
   "metadata": {},
   "outputs": [
    {
     "name": "stdout",
     "output_type": "stream",
     "text": [
      "OrderedDict([('x', 4), ('h', 2), ('crz', 2), ('cu3', 2), ('ccx', 2), ('bmx', 2)])\n"
     ]
    },
    {
     "data": {
      "image/png": "[encoded data removed]",
      "text/plain": [
       "<Figure size 801.864x385.28 with 1 Axes>"
      ]
     },
     "execution_count": 4,
     "metadata": {},
     "output_type": "execute_result"
    }
   ],
   "source": [
    "from qiskit.transpiler import PassManager\n",
    "from CongX.transpiler.passes.unroll_cong import UnrollCong\n",
    "# Unroll the circuit\n",
    "pass_ = UnrollCong()\n",
    "pm = PassManager(pass_)\n",
    "new_circuit = pm.run(qc1) \n",
    "new_circuit.draw(output='mpl')\n",
    "# obtain gates\n",
    "gates=new_circuit.count_ops()\n",
    "print(gates)\n",
    "new_circuit.draw(output='mpl')"
   ]
  },
  {
   "cell_type": "code",
   "execution_count": 5,
   "metadata": {},
   "outputs": [
    {
     "name": "stdout",
     "output_type": "stream",
     "text": [
      "OrderedDict([('bmx', 3), ('h', 2)])\n"
     ]
    }
   ],
   "source": [
    "from qiskit.transpiler.passes import Unroller\n",
    "from qiskit.transpiler.passes import Optimize1qGates\n",
    "# Unroll the circuit\n",
    "pass_ = Unroller(['u3', 'cx', 'h', 'x', 'ccx'])\n",
    "pm = PassManager(pass_)\n",
    "pass_ = Optimize1qGates()\n",
    "pm = PassManager(pass_)\n",
    "new_circuit = pm.run(qc1) \n",
    "new_circuit.draw(output='mpl')\n",
    "# obtain gates\n",
    "gates=new_circuit.count_ops()\n",
    "print(gates)"
   ]
  },
  {
   "cell_type": "code",
   "execution_count": 6,
   "metadata": {},
   "outputs": [
    {
     "data": {
      "image/png": "[encoded data removed]",
      "text/plain": [
       "<Figure size 440.664x385.28 with 1 Axes>"
      ]
     },
     "execution_count": 6,
     "metadata": {},
     "output_type": "execute_result"
    }
   ],
   "source": [
    "new_circuit.draw(output='mpl')"
   ]
  },
  {
   "cell_type": "code",
   "execution_count": null,
   "metadata": {},
   "outputs": [],
   "source": []
  }
 ],
 "metadata": {
  "kernelspec": {
   "display_name": "Python 3",
   "language": "python",
   "name": "python3"
  },
  "language_info": {
   "codemirror_mode": {
    "name": "ipython",
    "version": 3
   },
   "file_extension": ".py",
   "mimetype": "text/x-python",
   "name": "python",
   "nbconvert_exporter": "python",
   "pygments_lexer": "ipython3",
   "version": "3.7.4"
  }
 },
 "nbformat": 4,
 "nbformat_minor": 4
}
